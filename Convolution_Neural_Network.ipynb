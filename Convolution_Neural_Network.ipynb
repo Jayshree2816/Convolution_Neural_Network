{
 "cells": [
  {
   "cell_type": "code",
   "execution_count": 1,
   "metadata": {},
   "outputs": [],
   "source": [
    "import tensorflow as tf\n",
    "from keras.preprocessing.image import ImageDataGenerator"
   ]
  },
  {
   "cell_type": "code",
   "execution_count": 2,
   "metadata": {},
   "outputs": [
    {
     "data": {
      "text/plain": [
       "'2.4.1'"
      ]
     },
     "execution_count": 2,
     "metadata": {},
     "output_type": "execute_result"
    }
   ],
   "source": [
    "tf.__version__"
   ]
  },
  {
   "cell_type": "code",
   "execution_count": 3,
   "metadata": {},
   "outputs": [
    {
     "name": "stdout",
     "output_type": "stream",
     "text": [
      "Found 8000 images belonging to 2 classes.\n"
     ]
    }
   ],
   "source": [
    "train_datagen = ImageDataGenerator(rescale = 1./255,\n",
    "                                   shear_range = 0.2,\n",
    "                                   zoom_range = 0.2,\n",
    "                                   horizontal_flip = True)\n",
    "training_set = train_datagen.flow_from_directory('dataset/training_set',\n",
    "                                                 target_size = (64, 64),\n",
    "                                                 batch_size = 32,\n",
    "                                                 class_mode = 'binary')"
   ]
  },
  {
   "cell_type": "code",
   "execution_count": 4,
   "metadata": {},
   "outputs": [
    {
     "name": "stdout",
     "output_type": "stream",
     "text": [
      "Found 2000 images belonging to 2 classes.\n"
     ]
    }
   ],
   "source": [
    "test_datagen = ImageDataGenerator(rescale = 1./255)\n",
    "test_set = test_datagen.flow_from_directory('dataset/test_set',\n",
    "                                            target_size = (64, 64),\n",
    "                                            batch_size = 32,\n",
    "                                            class_mode = 'binary')"
   ]
  },
  {
   "cell_type": "markdown",
   "metadata": {},
   "source": [
    "# Building the CNN"
   ]
  },
  {
   "cell_type": "code",
   "execution_count": 5,
   "metadata": {},
   "outputs": [],
   "source": [
    "cnn = tf.keras.models.Sequential()   # Initialising the CNN"
   ]
  },
  {
   "cell_type": "code",
   "execution_count": 6,
   "metadata": {},
   "outputs": [],
   "source": [
    "cnn.add(tf.keras.layers.Conv2D(filters=32, kernel_size=3, activation='relu', input_shape=[64, 64, 3])) #Convolution"
   ]
  },
  {
   "cell_type": "code",
   "execution_count": 7,
   "metadata": {},
   "outputs": [],
   "source": [
    "cnn.add(tf.keras.layers.MaxPool2D(pool_size=2, strides=2))  #Pooling"
   ]
  },
  {
   "cell_type": "code",
   "execution_count": 8,
   "metadata": {},
   "outputs": [],
   "source": [
    "cnn.add(tf.keras.layers.Conv2D(filters=32, kernel_size=3, activation='relu')) #Second Convolution layer\n",
    "cnn.add(tf.keras.layers.MaxPool2D(pool_size=2, strides=2))"
   ]
  },
  {
   "cell_type": "code",
   "execution_count": 9,
   "metadata": {},
   "outputs": [],
   "source": [
    "cnn.add(tf.keras.layers.Flatten())  #Flattening"
   ]
  },
  {
   "cell_type": "code",
   "execution_count": 10,
   "metadata": {},
   "outputs": [],
   "source": [
    "cnn.add(tf.keras.layers.Dense(units=128, activation='relu'))  #Full Connection"
   ]
  },
  {
   "cell_type": "code",
   "execution_count": 11,
   "metadata": {},
   "outputs": [],
   "source": [
    "cnn.add(tf.keras.layers.Dense(units=1, activation='sigmoid'))  #Output layer"
   ]
  },
  {
   "cell_type": "code",
   "execution_count": 12,
   "metadata": {},
   "outputs": [],
   "source": [
    "cnn.compile(optimizer = 'adam', loss = 'binary_crossentropy', metrics = ['accuracy'])"
   ]
  },
  {
   "cell_type": "code",
   "execution_count": 13,
   "metadata": {},
   "outputs": [
    {
     "name": "stdout",
     "output_type": "stream",
     "text": [
      "Epoch 1/25\n",
      "250/250 [==============================] - 75s 294ms/step - loss: 0.6908 - accuracy: 0.5423 - val_loss: 0.6357 - val_accuracy: 0.6605\n",
      "Epoch 2/25\n",
      "250/250 [==============================] - 74s 294ms/step - loss: 0.6240 - accuracy: 0.6617 - val_loss: 0.5812 - val_accuracy: 0.6810\n",
      "Epoch 3/25\n",
      "250/250 [==============================] - 74s 294ms/step - loss: 0.5653 - accuracy: 0.7144 - val_loss: 0.5513 - val_accuracy: 0.7285\n",
      "Epoch 4/25\n",
      "250/250 [==============================] - 76s 302ms/step - loss: 0.5474 - accuracy: 0.7214 - val_loss: 0.5420 - val_accuracy: 0.7370\n",
      "Epoch 5/25\n",
      "250/250 [==============================] - 71s 285ms/step - loss: 0.5063 - accuracy: 0.7480 - val_loss: 0.5045 - val_accuracy: 0.7505\n",
      "Epoch 6/25\n",
      "250/250 [==============================] - 71s 283ms/step - loss: 0.4944 - accuracy: 0.7577 - val_loss: 0.4967 - val_accuracy: 0.7540\n",
      "Epoch 7/25\n",
      "250/250 [==============================] - 70s 281ms/step - loss: 0.4682 - accuracy: 0.7804 - val_loss: 0.4934 - val_accuracy: 0.7750\n",
      "Epoch 8/25\n",
      "250/250 [==============================] - 73s 291ms/step - loss: 0.4588 - accuracy: 0.7838 - val_loss: 0.4814 - val_accuracy: 0.7675\n",
      "Epoch 9/25\n",
      "250/250 [==============================] - 86s 344ms/step - loss: 0.4339 - accuracy: 0.7926 - val_loss: 0.4916 - val_accuracy: 0.7840\n",
      "Epoch 10/25\n",
      "250/250 [==============================] - 77s 307ms/step - loss: 0.4232 - accuracy: 0.8000 - val_loss: 0.4687 - val_accuracy: 0.7850\n",
      "Epoch 11/25\n",
      "250/250 [==============================] - 79s 315ms/step - loss: 0.3946 - accuracy: 0.8247 - val_loss: 0.5085 - val_accuracy: 0.7680\n",
      "Epoch 12/25\n",
      "250/250 [==============================] - 84s 336ms/step - loss: 0.3900 - accuracy: 0.8230 - val_loss: 0.4721 - val_accuracy: 0.7915\n",
      "Epoch 13/25\n",
      "250/250 [==============================] - 74s 294ms/step - loss: 0.3559 - accuracy: 0.8395 - val_loss: 0.4664 - val_accuracy: 0.7965\n",
      "Epoch 14/25\n",
      "250/250 [==============================] - 81s 325ms/step - loss: 0.3412 - accuracy: 0.8456 - val_loss: 0.5011 - val_accuracy: 0.7800\n",
      "Epoch 15/25\n",
      "250/250 [==============================] - 70s 279ms/step - loss: 0.3308 - accuracy: 0.8596 - val_loss: 0.4961 - val_accuracy: 0.7850\n",
      "Epoch 16/25\n",
      "250/250 [==============================] - 68s 273ms/step - loss: 0.3041 - accuracy: 0.8736 - val_loss: 0.5657 - val_accuracy: 0.7655\n",
      "Epoch 17/25\n",
      "250/250 [==============================] - 82s 327ms/step - loss: 0.2926 - accuracy: 0.8743 - val_loss: 0.4897 - val_accuracy: 0.7875\n",
      "Epoch 18/25\n",
      "250/250 [==============================] - 81s 321ms/step - loss: 0.2941 - accuracy: 0.8743 - val_loss: 0.5331 - val_accuracy: 0.7930\n",
      "Epoch 19/25\n",
      "250/250 [==============================] - 66s 265ms/step - loss: 0.2709 - accuracy: 0.8861 - val_loss: 0.5193 - val_accuracy: 0.7900\n",
      "Epoch 20/25\n",
      "250/250 [==============================] - 75s 298ms/step - loss: 0.2379 - accuracy: 0.8988 - val_loss: 0.5145 - val_accuracy: 0.7980\n",
      "Epoch 21/25\n",
      "250/250 [==============================] - 80s 318ms/step - loss: 0.2413 - accuracy: 0.8995 - val_loss: 0.5172 - val_accuracy: 0.7965\n",
      "Epoch 22/25\n",
      "250/250 [==============================] - 63s 250ms/step - loss: 0.2153 - accuracy: 0.9149 - val_loss: 0.5536 - val_accuracy: 0.7915\n",
      "Epoch 23/25\n",
      "250/250 [==============================] - 64s 256ms/step - loss: 0.2065 - accuracy: 0.9165 - val_loss: 0.5903 - val_accuracy: 0.7925\n",
      "Epoch 24/25\n",
      "250/250 [==============================] - 57s 226ms/step - loss: 0.1889 - accuracy: 0.9272 - val_loss: 0.5876 - val_accuracy: 0.7995\n",
      "Epoch 25/25\n",
      "250/250 [==============================] - 60s 240ms/step - loss: 0.2066 - accuracy: 0.9174 - val_loss: 0.6345 - val_accuracy: 0.7850\n"
     ]
    },
    {
     "data": {
      "text/plain": [
       "<tensorflow.python.keras.callbacks.History at 0x7fa1be259550>"
      ]
     },
     "execution_count": 13,
     "metadata": {},
     "output_type": "execute_result"
    }
   ],
   "source": [
    "cnn.fit(x = training_set, validation_data = test_set, epochs = 25)"
   ]
  },
  {
   "cell_type": "code",
   "execution_count": null,
   "metadata": {},
   "outputs": [],
   "source": []
  }
 ],
 "metadata": {
  "kernelspec": {
   "display_name": "Python 3",
   "language": "python",
   "name": "python3"
  },
  "language_info": {
   "codemirror_mode": {
    "name": "ipython",
    "version": 3
   },
   "file_extension": ".py",
   "mimetype": "text/x-python",
   "name": "python",
   "nbconvert_exporter": "python",
   "pygments_lexer": "ipython3",
   "version": "3.7.4"
  }
 },
 "nbformat": 4,
 "nbformat_minor": 2
}
